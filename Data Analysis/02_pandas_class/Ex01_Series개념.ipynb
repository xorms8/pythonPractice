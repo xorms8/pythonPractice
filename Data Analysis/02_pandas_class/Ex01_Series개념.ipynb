{
 "cells": [
  {
   "cell_type": "markdown",
   "metadata": {},
   "source": [
    "## Series\n",
    "\n",
    "- DataFrame의 한 컬럼 데이터 세트\n",
    "\n",
    "- Series 역시 DataFrame의 인덱스와 동일한 인덱스를 가진다\n",
    "\n",
    "- 즉 Series는 컬럼이 하나인 데이타 구조체이고, DataFrame은 컬럼이 여러개인 데이타 구조체이다\n",
    "\n",
    "\n",
    "> DataFrame을 RDBMS의 테이블과 유사하다면, Series는 테이블의 한 컬럼과 유사다하고 볼 수 있다\n"
   ]
  },
  {
   "cell_type": "code",
   "execution_count": 1,
   "metadata": {},
   "outputs": [],
   "source": [
    "# from pandas import Series\n",
    "# age_in = Series([22,33,44,25,28])\n",
    "\n",
    "import pandas as pd\n",
    "age_in = pd.Series([22,33,44,25,28])"
   ]
  },
  {
   "cell_type": "code",
   "execution_count": 2,
   "metadata": {},
   "outputs": [
    {
     "data": {
      "text/plain": [
       "RangeIndex(start=0, stop=5, step=1)"
      ]
     },
     "execution_count": 2,
     "metadata": {},
     "output_type": "execute_result"
    }
   ],
   "source": [
    "age_in.index"
   ]
  },
  {
   "cell_type": "code",
   "execution_count": 3,
   "metadata": {},
   "outputs": [
    {
     "data": {
      "text/plain": [
       "array([22, 33, 44, 25, 28], dtype=int64)"
      ]
     },
     "execution_count": 3,
     "metadata": {},
     "output_type": "execute_result"
    }
   ],
   "source": [
    "age_in.values"
   ]
  },
  {
   "cell_type": "code",
   "execution_count": 4,
   "metadata": {},
   "outputs": [
    {
     "data": {
      "text/plain": [
       "<bound method Series.keys of 0    22\n",
       "1    33\n",
       "2    44\n",
       "3    25\n",
       "4    28\n",
       "dtype: int64>"
      ]
     },
     "execution_count": 4,
     "metadata": {},
     "output_type": "execute_result"
    }
   ],
   "source": [
    "age_in.keys"
   ]
  },
  {
   "cell_type": "markdown",
   "metadata": {},
   "source": [
    "인덱스 지정하며 시리즈 생성"
   ]
  },
  {
   "cell_type": "code",
   "execution_count": 7,
   "metadata": {
    "scrolled": false
   },
   "outputs": [
    {
     "data": {
      "text/plain": [
       "가    22\n",
       "나    33\n",
       "다    44\n",
       "라    25\n",
       "마    28\n",
       "dtype: int64"
      ]
     },
     "execution_count": 7,
     "metadata": {},
     "output_type": "execute_result"
    }
   ],
   "source": [
    "age_in = pd.Series([22,33,44,25,28], index=['가','나','다','라','마'])\n",
    "age_in # 자동으로 인덱스 잡혀있음 위에서 설정한 index로 출력가능"
   ]
  },
  {
   "cell_type": "code",
   "execution_count": 10,
   "metadata": {},
   "outputs": [
    {
     "data": {
      "text/plain": [
       "가     22\n",
       "나     33\n",
       "다    100\n",
       "라     25\n",
       "마     28\n",
       "dtype: int64"
      ]
     },
     "execution_count": 10,
     "metadata": {},
     "output_type": "execute_result"
    }
   ],
   "source": [
    "#'다' 요소에 100으로 변경\n",
    "age_in['다'] = 100\n",
    "#age_in[2] = 200\n",
    "age_in"
   ]
  },
  {
   "cell_type": "code",
   "execution_count": 13,
   "metadata": {},
   "outputs": [
    {
     "name": "stdout",
     "output_type": "stream",
     "text": [
      "a    가\n",
      "b    나\n",
      "b    다\n",
      "dtype: object\n",
      "b    나\n",
      "b    다\n",
      "dtype: object\n",
      "------------------------------\n",
      "나\n"
     ]
    }
   ],
   "source": [
    "# Series 인덱스 중복 확인\n",
    "srs = pd.Series(['가','나','다'], index = ['a','b','b']) #Series 인덱스는 중복이 가능하다\n",
    "print(srs)\n",
    "print(srs['b'])\n",
    "print('-'*30)\n",
    "print(srs[1])"
   ]
  },
  {
   "cell_type": "markdown",
   "metadata": {},
   "source": [
    "딕셔러리를 시리즈 형태로 변환"
   ]
  },
  {
   "cell_type": "code",
   "execution_count": 17,
   "metadata": {},
   "outputs": [
    {
     "data": {
      "text/plain": [
       "kim     25\n",
       "park    22\n",
       "lee     34\n",
       "dtype: int64"
      ]
     },
     "execution_count": 17,
     "metadata": {},
     "output_type": "execute_result"
    }
   ],
   "source": [
    "# 딕셔러리를 시리즈 형태로 변환\n",
    "info_list = { 'kim': 25, 'park':22, 'lee':34 }\n",
    "info_series = pd.Series(info_list)\n",
    "info_series"
   ]
  },
  {
   "cell_type": "code",
   "execution_count": 19,
   "metadata": {},
   "outputs": [
    {
     "data": {
      "text/plain": [
       "0   NaN\n",
       "1   NaN\n",
       "2   NaN\n",
       "dtype: float64"
      ]
     },
     "execution_count": 19,
     "metadata": {},
     "output_type": "execute_result"
    }
   ],
   "source": [
    "# 인덱스를 지정하면 -> NaN로\n",
    "# 이미 인덱스 역할을 할 요소가 있는데 index를 지정해서 그런가\n",
    "info_series = pd.Series(info_list, index=[0,1,2])\n",
    "info_series\n",
    "\n"
   ]
  },
  {
   "cell_type": "code",
   "execution_count": 20,
   "metadata": {
    "scrolled": true
   },
   "outputs": [
    {
     "data": {
      "text/plain": [
       "0     (kim, 25)\n",
       "1    (park, 22)\n",
       "2     (lee, 34)\n",
       "dtype: object"
      ]
     },
     "execution_count": 20,
     "metadata": {},
     "output_type": "execute_result"
    }
   ],
   "source": [
    "## 가,나,다 요소에 A, B, C 인덱스를 가진 시리즈 생성\n",
    "info_series = pd.Series(info_list.items(), index=[0,1,2])\n",
    "info_series"
   ]
  },
  {
   "cell_type": "markdown",
   "metadata": {},
   "source": [
    "##  Series 인덱스\n",
    "\n",
    "+ 리스트, 튜플의 index와  dict 의 key 와 유사\n",
    "\n",
    "+ 같은 값의 index 가 가능 ( 즉, 중복 가능 )\n",
    "\n",
    "\n",
    "-------------------------------------------------\n",
    "## 정리\n",
    "\n",
    "- 리스트 튜플 index : 일련번호로 변경불가 / 순서 개념이 있다\n",
    "\n",
    "- Series Index : 중복 가능 / 순서 개념이 있다\n",
    "\n",
    "- Dict key : 중복 불가 / 순서 개념 없다\n",
    "\n"
   ]
  },
  {
   "cell_type": "markdown",
   "metadata": {},
   "source": [
    "## 판다스를 사용하는 이유\n",
    "\n",
    "\n",
    "만일 파이썬의 리스트와 판다스의 Series가 거의 유사하다면, 우리는 왜 파이썬의 리스트가 아닌 판다스의 Series를 사용할까? \n",
    "\n",
    "파이썬의 리스트를 사용하면 판다스에서 제공하는 다양한 기능을 사용할 수 없기 때문이다."
   ]
  },
  {
   "cell_type": "code",
   "execution_count": 22,
   "metadata": {},
   "outputs": [],
   "source": [
    "# 파이썬 기초 -리스트\n",
    "\n",
    "odd = [1,3,5,7,9]\n",
    "\n",
    "#평균 ?\n",
    "\n"
   ]
  },
  {
   "cell_type": "code",
   "execution_count": 23,
   "metadata": {},
   "outputs": [
    {
     "data": {
      "text/plain": [
       "5.0"
      ]
     },
     "execution_count": 23,
     "metadata": {},
     "output_type": "execute_result"
    }
   ],
   "source": [
    "import pandas as pd\n",
    "sr = pd.Series(odd)\n",
    "sr.mean()"
   ]
  }
 ],
 "metadata": {
  "kernelspec": {
   "display_name": "Python 3",
   "language": "python",
   "name": "python3"
  },
  "language_info": {
   "codemirror_mode": {
    "name": "ipython",
    "version": 3
   },
   "file_extension": ".py",
   "mimetype": "text/x-python",
   "name": "python",
   "nbconvert_exporter": "python",
   "pygments_lexer": "ipython3",
   "version": "3.8.8"
  }
 },
 "nbformat": 4,
 "nbformat_minor": 2
}
