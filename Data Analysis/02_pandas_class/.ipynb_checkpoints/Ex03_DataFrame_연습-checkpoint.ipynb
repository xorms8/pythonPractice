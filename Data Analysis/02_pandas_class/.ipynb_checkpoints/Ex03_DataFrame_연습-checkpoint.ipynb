{
 "cells": [
  {
   "cell_type": "code",
   "execution_count": 2,
   "metadata": {},
   "outputs": [
    {
     "data": {
      "text/html": [
       "<div>\n",
       "<style scoped>\n",
       "    .dataframe tbody tr th:only-of-type {\n",
       "        vertical-align: middle;\n",
       "    }\n",
       "\n",
       "    .dataframe tbody tr th {\n",
       "        vertical-align: top;\n",
       "    }\n",
       "\n",
       "    .dataframe thead th {\n",
       "        text-align: right;\n",
       "    }\n",
       "</style>\n",
       "<table border=\"1\" class=\"dataframe\">\n",
       "  <thead>\n",
       "    <tr style=\"text-align: right;\">\n",
       "      <th></th>\n",
       "      <th>상품명</th>\n",
       "      <th>판매건수</th>\n",
       "      <th>가격</th>\n",
       "      <th>매출</th>\n",
       "    </tr>\n",
       "  </thead>\n",
       "  <tbody>\n",
       "    <tr>\n",
       "      <th>0</th>\n",
       "      <td>봉투</td>\n",
       "      <td>12362</td>\n",
       "      <td>50</td>\n",
       "      <td>618100</td>\n",
       "    </tr>\n",
       "    <tr>\n",
       "      <th>1</th>\n",
       "      <td>바나나</td>\n",
       "      <td>4285</td>\n",
       "      <td>3900</td>\n",
       "      <td>16711500</td>\n",
       "    </tr>\n",
       "    <tr>\n",
       "      <th>2</th>\n",
       "      <td>야채</td>\n",
       "      <td>4190</td>\n",
       "      <td>0</td>\n",
       "      <td>0</td>\n",
       "    </tr>\n",
       "    <tr>\n",
       "      <th>3</th>\n",
       "      <td>켐벨포도</td>\n",
       "      <td>2780</td>\n",
       "      <td>29800</td>\n",
       "      <td>82844000</td>\n",
       "    </tr>\n",
       "    <tr>\n",
       "      <th>4</th>\n",
       "      <td>알뜰특란</td>\n",
       "      <td>2768</td>\n",
       "      <td>5300</td>\n",
       "      <td>14670400</td>\n",
       "    </tr>\n",
       "    <tr>\n",
       "      <th>...</th>\n",
       "      <td>...</td>\n",
       "      <td>...</td>\n",
       "      <td>...</td>\n",
       "      <td>...</td>\n",
       "    </tr>\n",
       "    <tr>\n",
       "      <th>195</th>\n",
       "      <td>바지락</td>\n",
       "      <td>253</td>\n",
       "      <td>0</td>\n",
       "      <td>0</td>\n",
       "    </tr>\n",
       "    <tr>\n",
       "      <th>196</th>\n",
       "      <td>해표)카놀라유</td>\n",
       "      <td>253</td>\n",
       "      <td>5600</td>\n",
       "      <td>1416800</td>\n",
       "    </tr>\n",
       "    <tr>\n",
       "      <th>197</th>\n",
       "      <td>오)자른당면</td>\n",
       "      <td>252</td>\n",
       "      <td>5850</td>\n",
       "      <td>1474200</td>\n",
       "    </tr>\n",
       "    <tr>\n",
       "      <th>198</th>\n",
       "      <td>롯데)알뜰소시지</td>\n",
       "      <td>252</td>\n",
       "      <td>4400</td>\n",
       "      <td>1108800</td>\n",
       "    </tr>\n",
       "    <tr>\n",
       "      <th>199</th>\n",
       "      <td>한돈앞다리/불고기,찌개(국내산)</td>\n",
       "      <td>252</td>\n",
       "      <td>0</td>\n",
       "      <td>0</td>\n",
       "    </tr>\n",
       "  </tbody>\n",
       "</table>\n",
       "<p>200 rows × 4 columns</p>\n",
       "</div>"
      ],
      "text/plain": [
       "                   상품명   판매건수     가격        매출\n",
       "0                   봉투  12362     50    618100\n",
       "1                  바나나   4285   3900  16711500\n",
       "2                   야채   4190      0         0\n",
       "3                 켐벨포도   2780  29800  82844000\n",
       "4                 알뜰특란   2768   5300  14670400\n",
       "..                 ...    ...    ...       ...\n",
       "195                바지락    253      0         0\n",
       "196            해표)카놀라유    253   5600   1416800\n",
       "197             오)자른당면    252   5850   1474200\n",
       "198           롯데)알뜰소시지    252   4400   1108800\n",
       "199  한돈앞다리/불고기,찌개(국내산)    252      0         0\n",
       "\n",
       "[200 rows x 4 columns]"
      ]
     },
     "execution_count": 2,
     "metadata": {},
     "output_type": "execute_result"
    }
   ],
   "source": [
    "import pandas as pd\n",
    "import matplotlib.pyplot as plt\n",
    "from matplotlib import font_manager, rc\n",
    "\n",
    "font_name = font_manager.FontProperties(fname=\"c:/Windows/Fonts/malgun.ttf\").get_name()\n",
    "rc('font', family=font_name)\n",
    "\n",
    "df = pd.read_excel('data/2016-01.xls')\n"
   ]
  },
  {
   "cell_type": "markdown",
   "metadata": {},
   "source": [
    "#### 판다스 데이타프레임의 기본적인 정보 얻어오기\n",
    "\n",
    "- 앞에 10개 행 보기\n",
    "- 뒤에 10개 행 보기\n",
    "\n",
    "- 판매건수에서 큰 값 순으로 10개 (nlargest()이용)\n",
    "- 판매건수에서 작은 값 순으로 10개 (nsmallest()이용)\n"
   ]
  },
  {
   "cell_type": "code",
   "execution_count": 9,
   "metadata": {},
   "outputs": [
    {
     "name": "stdout",
     "output_type": "stream",
     "text": [
      "     상품명   판매건수     가격        매출\n",
      "0     봉투  12362     50    618100\n",
      "1    바나나   4285   3900  16711500\n",
      "2     야채   4190      0         0\n",
      "3   켐벨포도   2780  29800  82844000\n",
      "4   알뜰특란   2768   5300  14670400\n",
      "5     딸기   2234      0         0\n",
      "6  팔음산포도   2161  19800  42787800\n",
      "7     봉투   2038     30     61140\n",
      "8    애호박   1962   1490   2923380\n",
      "9   청양고추   1901      0         0\n",
      "                   상품명  판매건수    가격       매출\n",
      "190              황도복숭아   258     0        0\n",
      "191       CJ)주부초밥왕(소풍)   256  3750   960000\n",
      "192     온동네광천파래재래김(전장)   255  2550   650250\n",
      "193              새송이버섯   255     0        0\n",
      "194            CJ)행콩나물   253  1950   493350\n",
      "195                바지락   253     0        0\n",
      "196            해표)카놀라유   253  5600  1416800\n",
      "197             오)자른당면   252  5850  1474200\n",
      "198           롯데)알뜰소시지   252  4400  1108800\n",
      "199  한돈앞다리/불고기,찌개(국내산)   252     0        0\n",
      "0    12362\n",
      "1     4285\n",
      "2     4190\n",
      "3     2780\n",
      "4     2768\n",
      "5     2234\n",
      "6     2161\n",
      "7     2038\n",
      "8     1962\n",
      "9     1901\n",
      "Name: 판매건수, dtype: int64\n",
      "197    252\n",
      "198    252\n",
      "199    252\n",
      "194    253\n",
      "195    253\n",
      "196    253\n",
      "192    255\n",
      "193    255\n",
      "191    256\n",
      "190    258\n",
      "Name: 판매건수, dtype: int64\n"
     ]
    }
   ],
   "source": [
    "print(df.head(10))\n",
    "print(df.tail(10))\n",
    "print(df['판매건수'].nlargest(10))\n",
    "print(df['판매건수'].nsmallest(10))"
   ]
  },
  {
   "cell_type": "markdown",
   "metadata": {},
   "source": [
    "#### 컬럼으로 추출\n",
    "\n",
    "- 컬럼명들을 출력\n",
    "- 판매건수 데이타 출력\n"
   ]
  },
  {
   "cell_type": "code",
   "execution_count": null,
   "metadata": {},
   "outputs": [],
   "source": [
    "\n"
   ]
  },
  {
   "cell_type": "markdown",
   "metadata": {},
   "source": [
    "#### 행에서 데이타 추출\n",
    "\n",
    "- 야채, 딸기, 봉투행을 추출하여 매출순으로 정렬하기 (sort_values()이용)\n",
    "- 바나나행부터 딸기행까지 추출\n",
    "- 야채부터 딸기행까지 추출"
   ]
  },
  {
   "cell_type": "code",
   "execution_count": null,
   "metadata": {
    "scrolled": true
   },
   "outputs": [],
   "source": []
  },
  {
   "cell_type": "markdown",
   "metadata": {},
   "source": [
    "#### 일련번호로 데이타 추출\n",
    "\n",
    "- 1번째 행 레코드 출력\n",
    "- '바나나' 행 레코드 출력"
   ]
  },
  {
   "cell_type": "code",
   "execution_count": null,
   "metadata": {},
   "outputs": [],
   "source": []
  },
  {
   "cell_type": "markdown",
   "metadata": {},
   "source": [
    "#### 조건으로 검색\n",
    "\n",
    "- 가격이 10000 초과 상품 출력\n",
    "- 가격이 10000에서 20000 사이 상품 출력"
   ]
  },
  {
   "cell_type": "code",
   "execution_count": null,
   "metadata": {},
   "outputs": [],
   "source": []
  },
  {
   "cell_type": "markdown",
   "metadata": {},
   "source": [
    "#### 판매건수로 정렬"
   ]
  },
  {
   "cell_type": "code",
   "execution_count": null,
   "metadata": {},
   "outputs": [],
   "source": []
  },
  {
   "cell_type": "markdown",
   "metadata": {},
   "source": [
    "#### 연속적(chain)으로 데이타 추출\n",
    "\n",
    "\n",
    "가격순으로 정렬하되 판매건수와 가격만 추출"
   ]
  },
  {
   "cell_type": "code",
   "execution_count": null,
   "metadata": {},
   "outputs": [],
   "source": []
  }
 ],
 "metadata": {
  "kernelspec": {
   "display_name": "Python 3",
   "language": "python",
   "name": "python3"
  },
  "language_info": {
   "codemirror_mode": {
    "name": "ipython",
    "version": 3
   },
   "file_extension": ".py",
   "mimetype": "text/x-python",
   "name": "python",
   "nbconvert_exporter": "python",
   "pygments_lexer": "ipython3",
   "version": "3.8.8"
  }
 },
 "nbformat": 4,
 "nbformat_minor": 2
}
