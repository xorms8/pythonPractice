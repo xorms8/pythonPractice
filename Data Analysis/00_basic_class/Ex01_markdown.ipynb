{
 "cells": [
  {
   "cell_type": "markdown",
   "id": "399cd99d",
   "metadata": {},
   "source": [
    "### 쉘 모드 변경\n",
    "\n",
    "+ Code셀로 변경 : ESC + Y\n",
    "\n",
    "+ Markdown 셀로 변경 : ESC + M"
   ]
  },
  {
   "cell_type": "code",
   "execution_count": 3,
   "id": "513a4ca9",
   "metadata": {},
   "outputs": [
    {
     "name": "stdout",
     "output_type": "stream",
     "text": [
      "hello\n",
      "100\n"
     ]
    }
   ],
   "source": [
    "#파이썬 코드\n",
    "a = 'hello'\n",
    "print(a)\n",
    "a = 100\n",
    "print(a)"
   ]
  },
  {
   "cell_type": "markdown",
   "id": "76621b71",
   "metadata": {},
   "source": [
    "# 서울 지하철 이용객 수 분석\n",
    "\n",
    "### 가장 이용자수가 많은 지하철은 ?\n",
    "\n",
    "+ 강남\n",
    "+ 홍대\n",
    "    - 성수\n",
    "    - 합정\n",
    "    \n",
    "    -가산 디지털단지"
   ]
  },
  {
   "cell_type": "markdown",
   "id": "20af2ca4",
   "metadata": {},
   "source": [
    "* 별표 하나는 번호 없는 목록\n",
    "*별표로감싸면기울이기(주의:띄어쓰기없어야함)*\n",
    "**별표2개로감싸면굵게(주의:띄어쓰기없이)**\n",
    "***별표3개로감싸면굵게(주의:띄어쓰기없이)***\n",
    "\n",
    "가로선 --- 이면\n",
    "\n",
    "---\n",
    "---\n",
    "\n",
    "인용문으로 맨 앞에 >\n",
    "\n",
    "> 안녕하세요"
   ]
  },
  {
   "cell_type": "markdown",
   "id": "301f00c2",
   "metadata": {},
   "source": [
    "<div align = \"Center\"> Hello World</div>\n",
    "\n",
    "<img src='./dataset/puppy.jpg'>\n",
    "\n",
    "[링크걸기](http://cafe.naver.com/javassem)\n",
    "\n",
    "이미지링크\n",
    "[![구글](https://www.google.com/images/branding/googlelogo/1x/googlelogo_color_272x92dp.png)](https://www.google.com/)"
   ]
  },
  {
   "cell_type": "markdown",
   "id": "dac046b6",
   "metadata": {},
   "source": [
    "<div align = \"Center\"><font color = \"blue\">[참고] 지하철의 노선도</font></div>\n",
    "\n",
    "<table border = '1'>\n",
    "    <tr>\n",
    "        <td>역명</td>\n",
    "        <td>지역</td>\n",
    "    </tr>\n",
    "     <tr>\n",
    "        <td>가산</td>\n",
    "        <td>금천구</td>\n",
    "    </tr>\n",
    "        \n",
    "<tabld>\n",
    "    \n",
    "<img src = \"dataset/map_subway.jpg\"/>"
   ]
  },
  {
   "cell_type": "markdown",
   "id": "74fb469e",
   "metadata": {},
   "source": []
  },
  {
   "cell_type": "markdown",
   "id": "e773e636",
   "metadata": {},
   "source": []
  },
  {
   "cell_type": "markdown",
   "id": "74204462",
   "metadata": {},
   "source": []
  }
 ],
 "metadata": {
  "kernelspec": {
   "display_name": "Python 3",
   "language": "python",
   "name": "python3"
  },
  "language_info": {
   "codemirror_mode": {
    "name": "ipython",
    "version": 3
   },
   "file_extension": ".py",
   "mimetype": "text/x-python",
   "name": "python",
   "nbconvert_exporter": "python",
   "pygments_lexer": "ipython3",
   "version": "3.8.8"
  }
 },
 "nbformat": 4,
 "nbformat_minor": 5
}
