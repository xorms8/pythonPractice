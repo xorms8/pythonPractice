{
 "cells": [
  {
   "cell_type": "markdown",
   "id": "5f5895ec",
   "metadata": {},
   "source": [
    "# 파이썬 기초이해"
   ]
  },
  {
   "cell_type": "code",
   "execution_count": 1,
   "id": "d5d4558b",
   "metadata": {},
   "outputs": [
    {
     "name": "stdout",
     "output_type": "stream",
     "text": [
      "1\n",
      "0\n"
     ]
    }
   ],
   "source": [
    "print(int(True))\n",
    "print(int(False))"
   ]
  },
  {
   "cell_type": "code",
   "execution_count": 2,
   "id": "11e02262",
   "metadata": {},
   "outputs": [],
   "source": [
    "print?"
   ]
  },
  {
   "cell_type": "code",
   "execution_count": 3,
   "id": "5e478419",
   "metadata": {},
   "outputs": [
    {
     "name": "stdout",
     "output_type": "stream",
     "text": [
      "[1, 2, 3, 1, 2, 3]\n",
      "[]\n"
     ]
    }
   ],
   "source": [
    "print([1,2,3] *2) #리스트와 연산은 문자열과 같다고 생각하자. 그만큼 반복하겠다는 얘기\n",
    "print([1,2,3] *0)"
   ]
  },
  {
   "cell_type": "markdown",
   "id": "27a930d7",
   "metadata": {},
   "source": [
    "## numpy 기초이해"
   ]
  },
  {
   "cell_type": "code",
   "execution_count": 5,
   "id": "099d72ab",
   "metadata": {},
   "outputs": [
    {
     "name": "stdout",
     "output_type": "stream",
     "text": [
      "[2 4 6]\n",
      "[0 0 0]\n"
     ]
    }
   ],
   "source": [
    "import numpy as np\n",
    "\n",
    "print(np.array([1,2,3]) *2) # 생각하는 1*2 / 2*2 / 3*2 연산이 만들어짐\n",
    "print(np.array([1,2,3]) *0)"
   ]
  },
  {
   "cell_type": "code",
   "execution_count": 7,
   "id": "aeb54249",
   "metadata": {},
   "outputs": [
    {
     "name": "stdout",
     "output_type": "stream",
     "text": [
      "[[ 1 20]\n",
      " [ 1 30]\n",
      " [ 1 40]]\n"
     ]
    }
   ],
   "source": [
    "print(np.array([[1,2],[1,3],[1,4]]) * np.array([1,10]) ) #행렬 곱"
   ]
  }
 ],
 "metadata": {
  "kernelspec": {
   "display_name": "Python 3",
   "language": "python",
   "name": "python3"
  },
  "language_info": {
   "codemirror_mode": {
    "name": "ipython",
    "version": 3
   },
   "file_extension": ".py",
   "mimetype": "text/x-python",
   "name": "python",
   "nbconvert_exporter": "python",
   "pygments_lexer": "ipython3",
   "version": "3.8.8"
  }
 },
 "nbformat": 4,
 "nbformat_minor": 5
}
