{
 "cells": [
  {
   "cell_type": "markdown",
   "metadata": {},
   "source": [
    "# numpy 연산\n",
    "\n",
    "\n",
    "+ abx / fabs : 절대값\n",
    "+ sqrt\t: 제곱근\n",
    "+ square\t: 제곱\n",
    "+ exp\t : 지수\n",
    "+ ceil / floor : 소수자릿수 올림/내림\n",
    "+ rint\t:소수자릿수 반올림\n",
    "+ modf\t: 원소의 몫과 나머지를 각 배열로 변환\n",
    "+ lsnan\t: 각 원소가 Nan인지 아닌지 불린 배열로 리턴\n",
    "\n",
    "+ add / subtract\t: 두 배열의 같은 위치의 요소끼리 덧셈/뺄셈\n",
    "+ multiply\t: 배열 원소끼리 곱셉\n",
    "+ divide\t: 첫번째 배열의 원소에서 두번째 배열 원소로 나눔\n",
    "+ power\t: 첫번째 배열의 원소에 두번째 배열의 원소만큼 제곱\n",
    "+ maximum\t: 비교하는 두 원소 중 큰 값\n",
    "+ mod\t: 첫번째 배열의 원소에서 두번째 배열 원소로 나눈 나머지\n",
    "\n"
   ]
  },
  {
   "cell_type": "markdown",
   "metadata": {},
   "source": [
    "###  선형대수 연산"
   ]
  },
  {
   "cell_type": "code",
   "execution_count": 2,
   "metadata": {},
   "outputs": [],
   "source": [
    "import numpy as np\n",
    "\n",
    "# (1) 배열의 연산\n",
    "arr1 = np.array([[1,2,3]\n",
    "                 ,[4,5,6]])\n",
    "arr2 = np.array([[1,1,1]\n",
    "                 ,[2,2,2]])\n"
   ]
  },
  {
   "cell_type": "code",
   "execution_count": 6,
   "metadata": {},
   "outputs": [],
   "source": [
    "# (2) 행렬의 곱\n",
    "\n",
    "A = np.array(\n",
    "    [[1, 2, 3],\n",
    "    [4, 5, 6]])\n",
    "B = np.array(\n",
    "    [[7,8],\n",
    "     [9,10],\n",
    "     [11, 12]])\n",
    "\n"
   ]
  },
  {
   "cell_type": "code",
   "execution_count": 8,
   "metadata": {},
   "outputs": [
    {
     "name": "stdout",
     "output_type": "stream",
     "text": [
      "[[1 2 3]\n",
      " [4 5 6]]\n",
      "[[1 4]\n",
      " [2 5]\n",
      " [3 6]]\n"
     ]
    }
   ],
   "source": [
    "# (3) 전치행렬\n",
    "#       - 원 행렬에서 행과 열 위치를 교환한 원소로 구성한 행렬\n",
    "A = np.array(\n",
    "    [[1, 2, 3],\n",
    "    [4, 5, 6]])\n",
    "\n",
    "print(A)\n",
    "\n",
    "B = np.transpose(A)\n",
    "print(B)\n"
   ]
  },
  {
   "cell_type": "markdown",
   "metadata": {},
   "source": [
    "### 넘파이 통계 함수\n",
    "\n",
    "+ sum\t: 배열 원소들의 합\n",
    "+ mean :산술 평균\n",
    "+ std / var\t: 표준편차 / 분산\n",
    "+ min / max\t: 최소 값 / 최대 값\n",
    "+ cumsum\t: 각 원소의 누적값\n",
    "+ cumprod\t: 각 원소의 누적곱\n"
   ]
  },
  {
   "cell_type": "code",
   "execution_count": 10,
   "metadata": {},
   "outputs": [],
   "source": [
    "import numpy as np\n",
    "\n",
    "ar = np.array([1,3,5,7])"
   ]
  },
  {
   "cell_type": "code",
   "execution_count": 11,
   "metadata": {},
   "outputs": [
    {
     "data": {
      "text/plain": [
       "4.0"
      ]
     },
     "execution_count": 11,
     "metadata": {},
     "output_type": "execute_result"
    }
   ],
   "source": [
    "# 평균\n",
    "np.mean(ar)"
   ]
  },
  {
   "cell_type": "code",
   "execution_count": 12,
   "metadata": {},
   "outputs": [
    {
     "data": {
      "text/plain": [
       "16"
      ]
     },
     "execution_count": 12,
     "metadata": {},
     "output_type": "execute_result"
    }
   ],
   "source": [
    "# 총합\n",
    "np.sum(ar)"
   ]
  },
  {
   "cell_type": "code",
   "execution_count": 13,
   "metadata": {
    "scrolled": true
   },
   "outputs": [
    {
     "data": {
      "text/plain": [
       "7"
      ]
     },
     "execution_count": 13,
     "metadata": {},
     "output_type": "execute_result"
    }
   ],
   "source": [
    "# 큰값\n",
    "np.max(ar)"
   ]
  },
  {
   "cell_type": "code",
   "execution_count": 15,
   "metadata": {},
   "outputs": [
    {
     "data": {
      "text/plain": [
       "array([  1,   3,  15, 105], dtype=int32)"
      ]
     },
     "execution_count": 15,
     "metadata": {},
     "output_type": "execute_result"
    }
   ],
   "source": [
    "# 각 원소의 누적곱\n",
    "np.cumprod(ar)"
   ]
  },
  {
   "cell_type": "markdown",
   "metadata": {},
   "source": [
    "#### 2차원 배열에서"
   ]
  },
  {
   "cell_type": "code",
   "execution_count": 17,
   "metadata": {},
   "outputs": [
    {
     "data": {
      "text/plain": [
       "array([[1, 2, 3],\n",
       "       [4, 5, 6]])"
      ]
     },
     "execution_count": 17,
     "metadata": {},
     "output_type": "execute_result"
    }
   ],
   "source": [
    "# 2차원 배열을 arr 생성\n",
    "arr = np.array([[1,2,3],[4,5,6]])\n",
    "arr"
   ]
  },
  {
   "cell_type": "code",
   "execution_count": 18,
   "metadata": {},
   "outputs": [
    {
     "data": {
      "text/plain": [
       "6"
      ]
     },
     "execution_count": 18,
     "metadata": {},
     "output_type": "execute_result"
    }
   ],
   "source": [
    "# 총합\n",
    "np.sum(arr)\n",
    "\n",
    "#  특정 행의 합\n",
    "np.sum(arr[0])\n",
    "# axis=0 : 행방향 - 열단위 합 -> 생각해야할 점 '행 의 방 향 !!!!! ' 행은 하단으로 내려가니까 ↓ (요 라인의 연산)\n",
    "np.sum(arr. axis =0)\n",
    "# axis=1 : 열방향 - 행단위 합 -> 생각해야할 점 '열 의 방 향 !!!!! ' 열은 우측으로 늘어나니까 → (요 라인의 연산)\n",
    "np.sum(arr. axis =1)"
   ]
  },
  {
   "cell_type": "code",
   "execution_count": 24,
   "metadata": {},
   "outputs": [
    {
     "data": {
      "text/plain": [
       "99"
      ]
     },
     "execution_count": 24,
     "metadata": {},
     "output_type": "execute_result"
    }
   ],
   "source": [
    "# 불린 배열에서의 배열\n",
    "arr2 = np.array([[12, 7, 22], [20,33, 44], [4,5,6]])\n",
    "\n",
    "sum(arr2[arr2>20]) \n",
    "\n",
    "(arr2>20).sum () # 3 -> True 값을 카운팅\n"
   ]
  },
  {
   "cell_type": "code",
   "execution_count": 26,
   "metadata": {},
   "outputs": [
    {
     "data": {
      "text/plain": [
       "array(['가산', '서울', '서울', '판교', '가산'], dtype='<U2')"
      ]
     },
     "execution_count": 26,
     "metadata": {},
     "output_type": "execute_result"
    }
   ],
   "source": [
    "# unique 연산자를 이용하여 중복제거\n",
    "region = np.array(['가산','서울','서울','판교','가산'])\n",
    "\n",
    "np.unique(region)\n",
    "\n",
    "region # 원본을 건드리진 않으니 unique는 return을 위한 변수를 선언해 놓는게 좋겠다! ex) region2 = np.unique(region)"
   ]
  },
  {
   "cell_type": "markdown",
   "metadata": {},
   "source": [
    "### 행렬의 정렬 "
   ]
  },
  {
   "cell_type": "code",
   "execution_count": 31,
   "metadata": {},
   "outputs": [
    {
     "name": "stdout",
     "output_type": "stream",
     "text": [
      "[1 2 3 4 5 6 6 7 8 9]\n",
      "[9 8 7 6 6 5 4 3 2 1]\n"
     ]
    }
   ],
   "source": [
    "arr = np.array([9,3,6,1,7,2,4,8,5,6])\n",
    "\n",
    "print(np.sort(arr))\n",
    "print(np.sort(arr)[::-1])"
   ]
  },
  {
   "cell_type": "code",
   "execution_count": 39,
   "metadata": {},
   "outputs": [
    {
     "name": "stdout",
     "output_type": "stream",
     "text": [
      "[[3 6 9]\n",
      " [1 2 7]\n",
      " [4 5 8]]\n",
      "==========\n",
      "[[1 3 2]\n",
      " [4 7 5]\n",
      " [9 8 6]]\n"
     ]
    }
   ],
   "source": [
    "arr2 = np.array([[9,3,6],\n",
    "                 [1,7,2],\n",
    "                 [4,8,5]])\n",
    "\n",
    "print(np.sort(arr2))#행 단위로 정렬 즉, 기본값은 열 방향  => 행 단위 = 열 방향\n",
    "\n",
    "print('='*10)\n",
    "\n",
    "print(np.sort(arr2,axis =0)) #행 방향으로 정렬 - >즉 세로 라인 ↓\n"
   ]
  }
 ],
 "metadata": {
  "kernelspec": {
   "display_name": "Python 3",
   "language": "python",
   "name": "python3"
  },
  "language_info": {
   "codemirror_mode": {
    "name": "ipython",
    "version": 3
   },
   "file_extension": ".py",
   "mimetype": "text/x-python",
   "name": "python",
   "nbconvert_exporter": "python",
   "pygments_lexer": "ipython3",
   "version": "3.8.8"
  }
 },
 "nbformat": 4,
 "nbformat_minor": 2
}
