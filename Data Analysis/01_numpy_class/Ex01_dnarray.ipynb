{
 "cells": [
  {
   "cell_type": "markdown",
   "metadata": {},
   "source": [
    "# numpy\n",
    "\n",
    "\n",
    "- 행렬 / 선형대수 / 통계 패키지\n",
    "\n",
    "- 머신러닝의 이론적 백그라운드는 선형대수와 통계로 이루어져 있다\n",
    "\n",
    "- 사이킷런 같은 머신러닝 패키지가 넘파이 기반으로 되어 있다\n",
    "\n",
    "\n",
    "    * 머신러닝 알고리즘이나 사이파이와 같은 과학, 통계 지원용 패키지를 직접 만드는 개발이 아니라면\n",
    "    넘파이를 상세하기 알 필요는 없다지만, 넘파이를 이해하는 것이 파이썬 기반의 데이타분석과 머신러닝에 중요하다\n",
    "    \n",
    "    * 넘파이가 데이타 핸들링에 효율적으로 쉽고 편하고 할 수 없다.\n",
    "      그러나 데이타 핸들링에 주로 사용하는 판다스도 많은 부분이 넘파이를 기반으로 만들어져 있다.\n",
    "    \n",
    "    * ndarray \n",
    "        - 넘파이 기반 데이타 타입\n",
    "        - np.array()       "
   ]
  },
  {
   "cell_type": "code",
   "execution_count": 4,
   "metadata": {},
   "outputs": [
    {
     "name": "stdout",
     "output_type": "stream",
     "text": [
      "[[1 2 3]\n",
      " [9 8 7]]\n",
      "<class 'numpy.ndarray'>\n",
      "(2, 3)\n"
     ]
    }
   ],
   "source": [
    "import numpy as np\n",
    "\n",
    "list_1 = [1,2,3]\n",
    "list_2 = [9,8,7]\n",
    "\n",
    "arr = np.array([list_1, list_2] )\n",
    "print(arr)\n",
    "print(type(arr))\n",
    "print(arr.shape)"
   ]
  },
  {
   "cell_type": "code",
   "execution_count": 6,
   "metadata": {},
   "outputs": [
    {
     "data": {
      "text/plain": [
       "array([[  1,   2,   3],\n",
       "       [  9, 100,   7]])"
      ]
     },
     "execution_count": 6,
     "metadata": {},
     "output_type": "execute_result"
    }
   ],
   "source": [
    "#두 번쨰 행에서 두번쨰 열의 요소값을 100변경\n",
    "arr[1][1] = 100\n",
    "arr"
   ]
  },
  {
   "cell_type": "code",
   "execution_count": 19,
   "metadata": {},
   "outputs": [
    {
     "name": "stdout",
     "output_type": "stream",
     "text": [
      "(3,)\n",
      "(1, 3)\n",
      "1 차원\n",
      "2 차원\n"
     ]
    }
   ],
   "source": [
    "a = np.array([1,2,3])\n",
    "b = np.array([[1,2,3]])\n",
    "\n",
    "print(a.shape) # 튜플\n",
    "print(b.shape)\n",
    "\n",
    "print(a.ndim, '차원')\n",
    "print(b.ndim, '차원')\n"
   ]
  },
  {
   "cell_type": "markdown",
   "metadata": {},
   "source": [
    "### 자료형\n",
    "+ numpy의 배열 안에는 동일한 타입의 데이터만 저장 ( **** )\n",
    "+ 이 점 떄문에 파이썬 보다 속도가 빠르다."
   ]
  },
  {
   "cell_type": "code",
   "execution_count": 24,
   "metadata": {},
   "outputs": [
    {
     "name": "stdout",
     "output_type": "stream",
     "text": [
      "<class 'numpy.ndarray'>\n",
      "float64\n"
     ]
    }
   ],
   "source": [
    "a = np.array([1,2,3.0])\n",
    "print(type(a))\n",
    "print(a.dtype) #numpy 안에 있는애 확인 int32 /float 64"
   ]
  },
  {
   "cell_type": "code",
   "execution_count": 25,
   "metadata": {},
   "outputs": [
    {
     "data": {
      "text/plain": [
       "array([1., 2., 3.])"
      ]
     },
     "execution_count": 25,
     "metadata": {},
     "output_type": "execute_result"
    }
   ],
   "source": [
    "a #0이 생략된 결과 출력"
   ]
  },
  {
   "cell_type": "code",
   "execution_count": 27,
   "metadata": {},
   "outputs": [
    {
     "name": "stdout",
     "output_type": "stream",
     "text": [
      "<class 'numpy.ndarray'>\n",
      "<U32\n"
     ]
    }
   ],
   "source": [
    "b = np.array([100,3.6, 'Hello']) #배열 막 선언\n",
    "print(type(b))\n",
    "print(b.dtype) #U32 - >유니코드 문자열"
   ]
  },
  {
   "cell_type": "code",
   "execution_count": 28,
   "metadata": {},
   "outputs": [
    {
     "data": {
      "text/plain": [
       "array(['100', '3.6', 'Hello'], dtype='<U32')"
      ]
     },
     "execution_count": 28,
     "metadata": {},
     "output_type": "execute_result"
    }
   ],
   "source": [
    "b #보면 문자열 ''이 들어갔음"
   ]
  },
  {
   "cell_type": "code",
   "execution_count": 1,
   "metadata": {},
   "outputs": [],
   "source": [
    "  # [결과] <U11   : Unicode 문자열 "
   ]
  },
  {
   "cell_type": "markdown",
   "metadata": {},
   "source": [
    "### nparray를 편리하게 생성\n",
    "\n",
    "* arange() : 범위를 이용한 배열 만들기\n",
    "* zeros() : 0으로 채우는 배열 만들기\n",
    "* ones() : 1로 채우는 배열 만들기"
   ]
  },
  {
   "cell_type": "code",
   "execution_count": 30,
   "metadata": {},
   "outputs": [],
   "source": [
    "import numpy as np"
   ]
  },
  {
   "cell_type": "code",
   "execution_count": 34,
   "metadata": {},
   "outputs": [
    {
     "name": "stdout",
     "output_type": "stream",
     "text": [
      "float64\n"
     ]
    },
    {
     "data": {
      "text/plain": [
       "array([[0., 0., 0., 0., 0.],\n",
       "       [0., 0., 0., 0., 0.],\n",
       "       [0., 0., 0., 0., 0.],\n",
       "       [0., 0., 0., 0., 0.],\n",
       "       [0., 0., 0., 0., 0.]])"
      ]
     },
     "execution_count": 34,
     "metadata": {},
     "output_type": "execute_result"
    }
   ],
   "source": [
    "d = np.zeros((5,5))\n",
    "print(d.dtype)\n",
    "\n",
    "d"
   ]
  },
  {
   "cell_type": "code",
   "execution_count": 35,
   "metadata": {},
   "outputs": [
    {
     "data": {
      "text/plain": [
       "array([[1., 1.],\n",
       "       [1., 1.],\n",
       "       [1., 1.]])"
      ]
     },
     "execution_count": 35,
     "metadata": {},
     "output_type": "execute_result"
    }
   ],
   "source": [
    "#1로 채워진 3행 2열\n",
    "a = np.ones((3,2))"
   ]
  },
  {
   "cell_type": "markdown",
   "metadata": {},
   "source": [
    "### ndarray의 차원과 크기를 변경 : reshape()"
   ]
  },
  {
   "cell_type": "code",
   "execution_count": 38,
   "metadata": {},
   "outputs": [
    {
     "name": "stdout",
     "output_type": "stream",
     "text": [
      "(20,)\n"
     ]
    },
    {
     "data": {
      "text/plain": [
       "array([ 0,  1,  2,  3,  4,  5,  6,  7,  8,  9, 10, 11, 12, 13, 14, 15, 16,\n",
       "       17, 18, 19])"
      ]
     },
     "execution_count": 38,
     "metadata": {},
     "output_type": "execute_result"
    }
   ],
   "source": [
    "arr = np.arange(20)\n",
    "print(arr.shape)\n",
    "arr"
   ]
  },
  {
   "cell_type": "code",
   "execution_count": 40,
   "metadata": {
    "scrolled": true
   },
   "outputs": [
    {
     "name": "stdout",
     "output_type": "stream",
     "text": [
      "(4, 5)\n"
     ]
    },
    {
     "data": {
      "text/plain": [
       "array([[ 0,  1,  2,  3,  4],\n",
       "       [ 5,  6,  7,  8,  9],\n",
       "       [10, 11, 12, 13, 14],\n",
       "       [15, 16, 17, 18, 19]])"
      ]
     },
     "execution_count": 40,
     "metadata": {},
     "output_type": "execute_result"
    }
   ],
   "source": [
    "arr2 =arr.reshape(4,5)\n",
    "print(arr2.shape)\n",
    "arr2"
   ]
  },
  {
   "cell_type": "code",
   "execution_count": 41,
   "metadata": {},
   "outputs": [
    {
     "name": "stdout",
     "output_type": "stream",
     "text": [
      "(5, 4)\n"
     ]
    },
    {
     "data": {
      "text/plain": [
       "array([[ 0,  1,  2,  3],\n",
       "       [ 4,  5,  6,  7],\n",
       "       [ 8,  9, 10, 11],\n",
       "       [12, 13, 14, 15],\n",
       "       [16, 17, 18, 19]])"
      ]
     },
     "execution_count": 41,
     "metadata": {},
     "output_type": "execute_result"
    }
   ],
   "source": [
    "arr2 =arr.reshape(-1,4) #하나를 모를때는 -1값\n",
    "print(arr2.shape)\n",
    "arr2"
   ]
  },
  {
   "cell_type": "markdown",
   "metadata": {},
   "source": [
    "### 인덱싱: 특정 데이타 추출"
   ]
  },
  {
   "cell_type": "code",
   "execution_count": 43,
   "metadata": {},
   "outputs": [
    {
     "name": "stdout",
     "output_type": "stream",
     "text": [
      "[ 1  2  3  4  5  6  7  8  9 10]\n",
      "3번째 요소 추출 3\n",
      "뒤에서 세번쨰 요소 추출 8\n"
     ]
    }
   ],
   "source": [
    "#------------------------------------------ (1) 단일값 출력\n",
    "import numpy as np\n",
    "arr = np.arange(1, 11)\n",
    "print(arr)\n",
    "\n",
    "## 세번째 요소 추출 \n",
    "print('3번째 요소 추출',arr[2])\n",
    "\n",
    "## 뒤에서 세번째 요소 추출 \n",
    "print('뒤에서 세번쨰 요소 추출', arr[-3])"
   ]
  },
  {
   "cell_type": "code",
   "execution_count": 56,
   "metadata": {},
   "outputs": [
    {
     "name": "stdout",
     "output_type": "stream",
     "text": [
      "두번째 행의 세번째 열의 값 추출 :  6\n"
     ]
    }
   ],
   "source": [
    "## 1부터 9까지 nparray를 만들고 3행 3열 2차원 구조로 변경한후\n",
    "## 두번째 행의 세번째 열의 값 추출\n",
    "\n",
    "good = np.arange(1,10)\n",
    "good2 = good.reshape(3,3)\n",
    "good2\n",
    "print('두번째 행의 세번째 열의 값 추출 : ', good2[1][2])"
   ]
  },
  {
   "cell_type": "code",
   "execution_count": 61,
   "metadata": {
    "scrolled": true
   },
   "outputs": [
    {
     "name": "stdout",
     "output_type": "stream",
     "text": [
      "# 인덱스 2번째부터 4번째까지 : [3 4 5]\n",
      "# 인덱스 2번째부터 끝까지 : [3 4 5 6 7 8 9]\n",
      "처음부터 인덱스 4번째까지 : [1 2 3 4 5]\n"
     ]
    }
   ],
   "source": [
    "#------------------------------------------ (2) 슬라이싱 (:)\n",
    "arr = np.arange(1, 10)\n",
    "\n",
    "# 인덱스 2번째부터 4번째까지\n",
    "print('# 인덱스 2번째부터 4번째까지 :', arr[2:5])\n",
    "\n",
    "# 인덱스 2번째부터 끝까지\n",
    "print('# 인덱스 2번째부터 끝까지 :', arr[2:])\n",
    "\n",
    "# 처음부터 인덱스 4번째까지\n",
    "print('처음부터 인덱스 4번째까지 :', arr[:5])\n",
    "\n",
    "\n"
   ]
  },
  {
   "cell_type": "code",
   "execution_count": 121,
   "metadata": {},
   "outputs": [
    {
     "name": "stdout",
     "output_type": "stream",
     "text": [
      "[[1 2]\n",
      " [4 5]]\n",
      "==========\n",
      "[[4 5 6]\n",
      " [7 8 9]]\n",
      "==========\n",
      "[[2 3]\n",
      " [5 6]]\n",
      "==========\n",
      "[[1]\n",
      " [4]]\n",
      "==========\n",
      "[[1 2 3]\n",
      " [4 5 6]\n",
      " [7 8 9]]\n",
      "==========\n",
      "[[3]\n",
      " [6]]\n",
      "==========\n"
     ]
    }
   ],
   "source": [
    "## 2차원 배열에서 생성\n",
    "\"\"\"\n",
    "    1 2 3\n",
    "    4 5 6\n",
    "    7 8 9\n",
    "\"\"\"\n",
    "\n",
    "arr = np.arange(1,10)\n",
    "arr2 = arr.reshape(3,3)\n",
    "\n",
    "    \n",
    "## 배열에서 1, 2, 4, 5 추출\n",
    "\n",
    "print(arr2[:2,:2])\n",
    "print('='*10)\n",
    "\n",
    "## 배열에서 4, 5, 6, 7, 8, 9 추출\n",
    "\n",
    "print(arr2[1:,:3])\n",
    "print('='*10)\n",
    "\n",
    "## 배열에서 2, 3, 5, 6 추출\n",
    "\n",
    "print(arr2[0:2,1:])\n",
    "print('='*10)\n",
    "\n",
    "## 배열에서 1, 4 추출\n",
    "print(arr2[:2,:1])\n",
    "print('='*10)\n",
    "\n",
    "## 배열에서 전체 요소 추출\n",
    "print(arr2[:])\n",
    "print('='*10)\n",
    "\n",
    "## 배열에서 3, 6 추출\n",
    "print(arr2[:2,2:3])\n",
    "print('='*10)\n",
    "# 지금은 너무 간단하다고 여기지만 추후에 데이타에서 많이 헷갈려서 여기서 시간 소요를 많이 한다\n"
   ]
  },
  {
   "cell_type": "code",
   "execution_count": 141,
   "metadata": {},
   "outputs": [
    {
     "name": "stdout",
     "output_type": "stream",
     "text": [
      "[[1 2 3]\n",
      " [4 5 6]\n",
      " [7 8 9]]\n",
      "6\n",
      "7\n",
      "8\n",
      "9\n",
      "[[ 1  2  3]\n",
      " [ 4  5  6]\n",
      " [ 7 88  9]]\n"
     ]
    }
   ],
   "source": [
    "#------------------------------------------ (3) 블린인덱싱\n",
    "# 조건 필터링과 검색을 같이 하기에 자주 사용\n",
    "\n",
    "arr = np.arange(1, 10)\n",
    "ndarr = arr.reshape(3,3)\n",
    "print(ndarr)\n",
    "\n",
    "# 5보다 큰 요소들 추출\n",
    "for i in ndarr:\n",
    "    for j in i:\n",
    "        if j > 5:\n",
    "            print(j)\n",
    "            \n",
    "#print(ndarr[ndarr>5])\n",
    "\n",
    "# 8값 요소를 88로 변경\n",
    "ndarr[ndarr ==8] = 88\n",
    "print(ndarr)\n"
   ]
  }
 ],
 "metadata": {
  "kernelspec": {
   "display_name": "Python 3",
   "language": "python",
   "name": "python3"
  },
  "language_info": {
   "codemirror_mode": {
    "name": "ipython",
    "version": 3
   },
   "file_extension": ".py",
   "mimetype": "text/x-python",
   "name": "python",
   "nbconvert_exporter": "python",
   "pygments_lexer": "ipython3",
   "version": "3.8.8"
  }
 },
 "nbformat": 4,
 "nbformat_minor": 2
}
